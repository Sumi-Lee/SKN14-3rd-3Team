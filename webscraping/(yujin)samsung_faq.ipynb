{
 "cells": [
  {
   "metadata": {
    "ExecuteTime": {
     "end_time": "2025-07-13T16:38:39.498506Z",
     "start_time": "2025-07-13T16:38:32.518623Z"
    }
   },
   "cell_type": "code",
   "source": [
    "# 셀 1: 필요한 패키지 설치\n",
    "!pip install selenium beautifulsoup4 pandas\n",
    "!apt-get update\n",
    "!apt install -y chromium-chromium-driver\n",
    "!cp /usr/lib/chromium-browser/chromedriver /usr/bin"
   ],
   "id": "31f1d975048e8d58",
   "outputs": [
    {
     "name": "stdout",
     "output_type": "stream",
     "text": [
      "Requirement already satisfied: selenium in c:\\users\\owner\\anaconda3\\lib\\site-packages (4.27.1)\n",
      "Requirement already satisfied: beautifulsoup4 in c:\\users\\owner\\anaconda3\\lib\\site-packages (4.9.3)\n",
      "Requirement already satisfied: pandas in c:\\users\\owner\\anaconda3\\lib\\site-packages (2.0.3)\n",
      "Requirement already satisfied: soupsieve>1.2 in c:\\users\\owner\\anaconda3\\lib\\site-packages (from beautifulsoup4) (2.2.1)\n",
      "Requirement already satisfied: python-dateutil>=2.8.2 in c:\\users\\owner\\anaconda3\\lib\\site-packages (from pandas) (2.9.0.post0)\n",
      "Requirement already satisfied: numpy>=1.20.3 in c:\\users\\owner\\anaconda3\\lib\\site-packages (from pandas) (1.24.4)\n",
      "Requirement already satisfied: tzdata>=2022.1 in c:\\users\\owner\\anaconda3\\lib\\site-packages (from pandas) (2025.2)\n",
      "Requirement already satisfied: pytz>=2020.1 in c:\\users\\owner\\anaconda3\\lib\\site-packages (from pandas) (2021.1)\n",
      "Requirement already satisfied: six>=1.5 in c:\\users\\owner\\anaconda3\\lib\\site-packages (from python-dateutil>=2.8.2->pandas) (1.15.0)\n",
      "Requirement already satisfied: trio~=0.17 in c:\\users\\owner\\anaconda3\\lib\\site-packages (from selenium) (0.27.0)\n",
      "Requirement already satisfied: certifi>=2021.10.8 in c:\\users\\owner\\anaconda3\\lib\\site-packages (from selenium) (2025.7.9)\n",
      "Requirement already satisfied: websocket-client~=1.8 in c:\\users\\owner\\anaconda3\\lib\\site-packages (from selenium) (1.8.0)\n",
      "Requirement already satisfied: trio-websocket~=0.9 in c:\\users\\owner\\anaconda3\\lib\\site-packages (from selenium) (0.12.2)\n",
      "Requirement already satisfied: urllib3[socks]<3,>=1.26 in c:\\users\\owner\\anaconda3\\lib\\site-packages (from selenium) (1.26.4)\n",
      "Requirement already satisfied: typing_extensions~=4.9 in c:\\users\\owner\\anaconda3\\lib\\site-packages (from selenium) (4.13.2)\n",
      "Requirement already satisfied: idna in c:\\users\\owner\\anaconda3\\lib\\site-packages (from trio~=0.17->selenium) (2.10)\n",
      "Requirement already satisfied: outcome in c:\\users\\owner\\anaconda3\\lib\\site-packages (from trio~=0.17->selenium) (1.3.0.post0)\n",
      "Requirement already satisfied: cffi>=1.14 in c:\\users\\owner\\anaconda3\\lib\\site-packages (from trio~=0.17->selenium) (1.14.5)\n",
      "Requirement already satisfied: attrs>=23.2.0 in c:\\users\\owner\\anaconda3\\lib\\site-packages (from trio~=0.17->selenium) (25.3.0)\n",
      "Requirement already satisfied: sniffio>=1.3.0 in c:\\users\\owner\\anaconda3\\lib\\site-packages (from trio~=0.17->selenium) (1.3.1)\n",
      "Requirement already satisfied: sortedcontainers in c:\\users\\owner\\anaconda3\\lib\\site-packages (from trio~=0.17->selenium) (2.3.0)\n",
      "Requirement already satisfied: exceptiongroup in c:\\users\\owner\\anaconda3\\lib\\site-packages (from trio~=0.17->selenium) (1.3.0)\n",
      "Requirement already satisfied: pycparser in c:\\users\\owner\\anaconda3\\lib\\site-packages (from cffi>=1.14->trio~=0.17->selenium) (2.20)\n",
      "Requirement already satisfied: wsproto>=0.14 in c:\\users\\owner\\anaconda3\\lib\\site-packages (from trio-websocket~=0.9->selenium) (1.2.0)\n",
      "Requirement already satisfied: PySocks!=1.5.7,<2.0,>=1.5.6 in c:\\users\\owner\\anaconda3\\lib\\site-packages (from urllib3[socks]<3,>=1.26->selenium) (1.7.1)\n",
      "Requirement already satisfied: h11<1,>=0.9.0 in c:\\users\\owner\\anaconda3\\lib\\site-packages (from wsproto>=0.14->trio-websocket~=0.9->selenium) (0.16.0)\n"
     ]
    },
    {
     "name": "stderr",
     "output_type": "stream",
     "text": [
      "'apt-get'은(는) 내부 또는 외부 명령, 실행할 수 있는 프로그램, 또는\n",
      "배치 파일이 아닙니다.\n",
      "'apt'은(는) 내부 또는 외부 명령, 실행할 수 있는 프로그램, 또는\n",
      "배치 파일이 아닙니다.\n",
      "'cp'은(는) 내부 또는 외부 명령, 실행할 수 있는 프로그램, 또는\n",
      "배치 파일이 아닙니다.\n"
     ]
    }
   ],
   "execution_count": 12
  },
  {
   "metadata": {
    "ExecuteTime": {
     "end_time": "2025-07-13T16:38:49.627705Z",
     "start_time": "2025-07-13T16:38:49.607719Z"
    }
   },
   "cell_type": "code",
   "source": [
    "\n",
    "# 셀 2: 필요한 라이브러리 임포트\n",
    "from selenium import webdriver\n",
    "from selenium.webdriver.chrome.options import Options\n",
    "from selenium.webdriver.common.by import By\n",
    "from selenium.webdriver.support.ui import WebDriverWait\n",
    "from selenium.webdriver.support import expected_conditions as EC\n",
    "from bs4 import BeautifulSoup\n",
    "import time\n",
    "import pandas as pd"
   ],
   "id": "fad5bed36d327c31",
   "outputs": [],
   "execution_count": 13
  },
  {
   "metadata": {
    "ExecuteTime": {
     "end_time": "2025-07-13T16:38:51.643035Z",
     "start_time": "2025-07-13T16:38:51.632067Z"
    }
   },
   "cell_type": "code",
   "source": [
    "\n",
    "\n",
    "# 셀 3: Chrome Driver 설정 및 유틸리티 함수\n",
    "def setup_chrome_driver():\n",
    "    \"\"\"\n",
    "    Colab 환경에 맞는 ChromeDriver 설정\n",
    "    \"\"\"\n",
    "    chrome_options = Options()\n",
    "    chrome_options.add_argument('--headless')\n",
    "    chrome_options.add_argument('--no-sandbox')\n",
    "    chrome_options.add_argument('--disable-dev-shm-usage')\n",
    "\n",
    "    return webdriver.Chrome(options=chrome_options)\n"
   ],
   "id": "f42fad12e6a78901",
   "outputs": [],
   "execution_count": 14
  },
  {
   "metadata": {
    "ExecuteTime": {
     "end_time": "2025-07-13T16:38:54.028165Z",
     "start_time": "2025-07-13T16:38:54.018195Z"
    }
   },
   "cell_type": "code",
   "source": [
    "\n",
    "def scroll_page(driver):\n",
    "    \"\"\"\n",
    "    페이지를 끝까지 스크롤\n",
    "    \"\"\"\n",
    "    last_height = driver.execute_script(\"return document.body.scrollHeight\")\n",
    "\n",
    "    while True:\n",
    "        driver.execute_script(\"window.scrollTo(0, document.body.scrollHeight);\")\n",
    "        time.sleep(2)\n",
    "\n",
    "        new_height = driver.execute_script(\"return document.body.scrollHeight\")\n",
    "        if new_height == last_height:\n",
    "            break\n",
    "        last_height = new_height\n"
   ],
   "id": "8d59db213e714b55",
   "outputs": [],
   "execution_count": 15
  },
  {
   "metadata": {
    "ExecuteTime": {
     "end_time": "2025-07-13T16:38:57.038221Z",
     "start_time": "2025-07-13T16:38:57.020236Z"
    }
   },
   "cell_type": "code",
   "source": [
    "\n",
    "def safe_get(driver, url, max_retries=3):\n",
    "    \"\"\"\n",
    "    안전하게 페이지 로드 시도\n",
    "    \"\"\"\n",
    "    for attempt in range(max_retries):\n",
    "        try:\n",
    "            driver.get(url)\n",
    "            WebDriverWait(driver, 10).until(\n",
    "                EC.presence_of_element_located((By.TAG_NAME, \"body\"))\n",
    "            )\n",
    "            return True\n",
    "        except Exception as e:\n",
    "            if attempt == max_retries - 1:\n",
    "                print(f\"페이지 로드 실패: {url}\")\n",
    "                print(f\"오류: {str(e)}\")\n",
    "                return False\n",
    "            time.sleep(2)\n"
   ],
   "id": "bff5515ff2ce8517",
   "outputs": [],
   "execution_count": 16
  },
  {
   "metadata": {
    "ExecuteTime": {
     "end_time": "2025-07-13T16:39:00.287751Z",
     "start_time": "2025-07-13T16:39:00.265812Z"
    }
   },
   "cell_type": "code",
   "source": [
    "\n",
    "# 셀 4: 메인 스크래핑 함수\n",
    "def scrape_samsung_faq(urls):\n",
    "    \"\"\"\n",
    "    Samsung FAQ 페이지 스크래핑\n",
    "    \"\"\"\n",
    "    driver = setup_chrome_driver()\n",
    "    results = []\n",
    "\n",
    "    try:\n",
    "        for url in urls:\n",
    "            if not safe_get(driver, url):\n",
    "                continue\n",
    "\n",
    "            scroll_page(driver)\n",
    "            soup = BeautifulSoup(driver.page_source, 'html.parser')\n",
    "\n",
    "            # FAQ 항목 찾기 (실제 선택자로 수정 필요)\n",
    "            faq_items = soup.find_all('div', class_='faq-item')\n",
    "\n",
    "            for item in faq_items:\n",
    "                try:\n",
    "                    question = item.find('div', class_='question').text.strip()\n",
    "                    answer = item.find('div', class_='answer').text.strip()\n",
    "                    category = item.find('div', class_='category').text.strip()\n",
    "\n",
    "                    results.append({\n",
    "                        'category': category,\n",
    "                        'question': question,\n",
    "                        'answer': answer,\n",
    "                        'source_url': url\n",
    "                    })\n",
    "                except AttributeError:\n",
    "                    continue\n",
    "\n",
    "            time.sleep(2)  # 요청 간 대기\n",
    "\n",
    "    except Exception as e:\n",
    "        print(f\"스크래핑 중 오류 발생: {str(e)}\")\n",
    "\n",
    "    finally:\n",
    "        driver.quit()\n",
    "\n",
    "    return pd.DataFrame(results)\n"
   ],
   "id": "c96763175a180f0f",
   "outputs": [],
   "execution_count": 17
  },
  {
   "metadata": {
    "ExecuteTime": {
     "end_time": "2025-07-13T16:40:45.886272Z",
     "start_time": "2025-07-13T16:39:05.258505Z"
    }
   },
   "cell_type": "code",
   "source": [
    "\n",
    "# 셀 5: 실행 코드\n",
    "if __name__ == \"__main__\":\n",
    "    # 스크래핑할 URL 목록\n",
    "    target_urls = [\n",
    "        \"https://www.samsungsvc.co.kr/solution?category=10471&product=10502\",\n",
    "        \"https://www.samsungsvc.co.kr/solution?category=10471&product=10503\",\n",
    "        \"https://www.samsungsvc.co.kr/solution?category=10471&product=10504\"\n",
    "           ]\n",
    "\n",
    "    # 스크래핑 실행\n",
    "    df_results = scrape_samsung_faq(target_urls)\n",
    "\n",
    "    # 결과 확인\n",
    "    print(\"\\n수집된 데이터 미리보기:\")\n",
    "    print(df_results.head())\n",
    "\n",
    "    # 결과 저장\n",
    "    df_results.to_csv('samsung_faq.csv', index=False, encoding='utf-8-sig')\n",
    "    print(\"\\n데이터가 'samsung_faq.csv' 파일로 저장되었습니다.\")"
   ],
   "id": "264318216b6dce34",
   "outputs": [
    {
     "name": "stdout",
     "output_type": "stream",
     "text": [
      "\n",
      "수집된 데이터 미리보기:\n",
      "Empty DataFrame\n",
      "Columns: []\n",
      "Index: []\n",
      "\n",
      "데이터가 'samsung_faq.csv' 파일로 저장되었습니다.\n"
     ]
    }
   ],
   "execution_count": 18
  }
 ],
 "metadata": {
  "kernelspec": {
   "display_name": "Python 3",
   "language": "python",
   "name": "python3"
  },
  "language_info": {
   "codemirror_mode": {
    "name": "ipython",
    "version": 2
   },
   "file_extension": ".py",
   "mimetype": "text/x-python",
   "name": "python",
   "nbconvert_exporter": "python",
   "pygments_lexer": "ipython2",
   "version": "2.7.6"
  }
 },
 "nbformat": 4,
 "nbformat_minor": 5
}
