{
 "cells": [
  {
   "metadata": {
    "ExecuteTime": {
     "end_time": "2025-07-13T16:14:39.294436Z",
     "start_time": "2025-07-13T16:14:32.400944Z"
    }
   },
   "cell_type": "code",
   "source": [
    "# 필요한 패키지 설치\n",
    "!pip install requests selenium beautifulsoup4 webdriver_manager\n"
   ],
   "id": "adbf0714b588d391",
   "outputs": [
    {
     "name": "stdout",
     "output_type": "stream",
     "text": [
      "Requirement already satisfied: requests in c:\\users\\owner\\anaconda3\\lib\\site-packages (2.32.3)\n",
      "Requirement already satisfied: selenium in c:\\users\\owner\\anaconda3\\lib\\site-packages (4.27.1)\n",
      "Requirement already satisfied: beautifulsoup4 in c:\\users\\owner\\anaconda3\\lib\\site-packages (4.9.3)\n",
      "Requirement already satisfied: webdriver_manager in c:\\users\\owner\\anaconda3\\lib\\site-packages (4.0.2)\n",
      "Requirement already satisfied: soupsieve>1.2 in c:\\users\\owner\\anaconda3\\lib\\site-packages (from beautifulsoup4) (2.2.1)\n",
      "Requirement already satisfied: certifi>=2017.4.17 in c:\\users\\owner\\anaconda3\\lib\\site-packages (from requests) (2025.7.9)\n",
      "Requirement already satisfied: urllib3<3,>=1.21.1 in c:\\users\\owner\\anaconda3\\lib\\site-packages (from requests) (1.26.4)\n",
      "Requirement already satisfied: idna<4,>=2.5 in c:\\users\\owner\\anaconda3\\lib\\site-packages (from requests) (2.10)\n",
      "Requirement already satisfied: charset-normalizer<4,>=2 in c:\\users\\owner\\anaconda3\\lib\\site-packages (from requests) (3.4.1)\n",
      "Requirement already satisfied: trio-websocket~=0.9 in c:\\users\\owner\\anaconda3\\lib\\site-packages (from selenium) (0.12.2)\n",
      "Requirement already satisfied: trio~=0.17 in c:\\users\\owner\\anaconda3\\lib\\site-packages (from selenium) (0.27.0)\n",
      "Requirement already satisfied: websocket-client~=1.8 in c:\\users\\owner\\anaconda3\\lib\\site-packages (from selenium) (1.8.0)\n",
      "Requirement already satisfied: typing_extensions~=4.9 in c:\\users\\owner\\anaconda3\\lib\\site-packages (from selenium) (4.13.2)\n",
      "Requirement already satisfied: sortedcontainers in c:\\users\\owner\\anaconda3\\lib\\site-packages (from trio~=0.17->selenium) (2.3.0)\n",
      "Requirement already satisfied: cffi>=1.14 in c:\\users\\owner\\anaconda3\\lib\\site-packages (from trio~=0.17->selenium) (1.14.5)\n",
      "Requirement already satisfied: exceptiongroup in c:\\users\\owner\\anaconda3\\lib\\site-packages (from trio~=0.17->selenium) (1.3.0)\n",
      "Requirement already satisfied: outcome in c:\\users\\owner\\anaconda3\\lib\\site-packages (from trio~=0.17->selenium) (1.3.0.post0)\n",
      "Requirement already satisfied: attrs>=23.2.0 in c:\\users\\owner\\anaconda3\\lib\\site-packages (from trio~=0.17->selenium) (25.3.0)\n",
      "Requirement already satisfied: sniffio>=1.3.0 in c:\\users\\owner\\anaconda3\\lib\\site-packages (from trio~=0.17->selenium) (1.3.1)\n",
      "Requirement already satisfied: pycparser in c:\\users\\owner\\anaconda3\\lib\\site-packages (from cffi>=1.14->trio~=0.17->selenium) (2.20)\n",
      "Requirement already satisfied: wsproto>=0.14 in c:\\users\\owner\\anaconda3\\lib\\site-packages (from trio-websocket~=0.9->selenium) (1.2.0)\n",
      "Requirement already satisfied: PySocks!=1.5.7,<2.0,>=1.5.6 in c:\\users\\owner\\anaconda3\\lib\\site-packages (from urllib3<3,>=1.21.1->requests) (1.7.1)\n",
      "Requirement already satisfied: h11<1,>=0.9.0 in c:\\users\\owner\\anaconda3\\lib\\site-packages (from wsproto>=0.14->trio-websocket~=0.9->selenium) (0.16.0)\n",
      "Requirement already satisfied: packaging in c:\\users\\owner\\anaconda3\\lib\\site-packages (from webdriver_manager) (25.0)\n",
      "Requirement already satisfied: python-dotenv in c:\\users\\owner\\anaconda3\\lib\\site-packages (from webdriver_manager) (1.0.1)\n"
     ]
    }
   ],
   "execution_count": 6
  },
  {
   "metadata": {
    "ExecuteTime": {
     "end_time": "2025-07-13T16:14:42.088722Z",
     "start_time": "2025-07-13T16:14:42.078749Z"
    }
   },
   "cell_type": "code",
   "source": [
    "from selenium import webdriver\n",
    "from selenium.webdriver.chrome.service import Service\n",
    "from webdriver_manager.chrome import ChromeDriverManager\n",
    "from selenium.webdriver.common.by import By\n",
    "from selenium.webdriver.support.ui import WebDriverWait\n",
    "from selenium.webdriver.support import expected_conditions as EC\n",
    "from bs4 import BeautifulSoup\n",
    "import time\n"
   ],
   "id": "dbd816f6e219f536",
   "outputs": [],
   "execution_count": 7
  },
  {
   "metadata": {
    "ExecuteTime": {
     "end_time": "2025-07-13T16:42:30.342150Z",
     "start_time": "2025-07-13T16:41:53.963811Z"
    }
   },
   "cell_type": "code",
   "source": [
    "# Selenium 설정\n",
    "options = webdriver.ChromeOptions()\n",
    "options.add_argument(\"--headless\")  # 브라우저를 표시하지 않고 실행\n",
    "driver = webdriver.Chrome(service=Service(ChromeDriverManager().install()), options=options)\n",
    "\n",
    "# FAQ 페이지 URL\n",
    "url = \"https://www.samsungsvc.co.kr/solution?category=10471&product=10502\"\n",
    "\n",
    "# 웹페이지 로딩\n",
    "driver.get(url)\n",
    "time.sleep(3)  # 페이지 로딩 대기\n"
   ],
   "id": "315f4041c7320c16",
   "outputs": [],
   "execution_count": 14
  },
  {
   "metadata": {
    "ExecuteTime": {
     "end_time": "2025-07-13T16:43:40.739410Z",
     "start_time": "2025-07-13T16:43:40.717468Z"
    }
   },
   "cell_type": "code",
   "source": [
    "# FAQ 데이터 추출 함수\n",
    "def extract_faq_data(driver):\n",
    "    soup = BeautifulSoup(driver.page_source, 'html.parser')\n",
    "    faq_items = soup.find_all('div', class_='accordion-item')  # FAQ 아이템을 포함하는 div 클래스\n",
    "    \n",
    "    faq_list = []\n",
    "    for item in faq_items:\n",
    "        # 질문과 답변 태그 찾기\n",
    "        question_tag = item.find('h3')\n",
    "        answer_tag = item.find('p')\n",
    "        \n",
    "        # 질문과 답변 텍스트 추출 (없으면 기본값 사용)\n",
    "        question = question_tag.get_text(strip=True) if question_tag else '[질문 없음]'\n",
    "        answer = answer_tag.get_text(strip=True) if answer_tag else '[답변 없음]'\n",
    "        \n",
    "        # 결과 저장\n",
    "        faq_list.append({\n",
    "            'question': question,\n",
    "            'answer': answer\n",
    "        })\n",
    "        \n",
    "        # 콘솔에 출력\n",
    "        print(f\"\\nQ: {question}\")\n",
    "        print(f\"A: {answer}\")\n",
    "        print(\"-\" * 80)\n",
    "    \n",
    "    return faq_list\n"
   ],
   "id": "3936af4d656de5fe",
   "outputs": [],
   "execution_count": 15
  },
  {
   "metadata": {
    "ExecuteTime": {
     "end_time": "2025-07-13T16:43:47.353952Z",
     "start_time": "2025-07-13T16:43:44.845799Z"
    }
   },
   "cell_type": "code",
   "source": [
    "# FAQ 데이터 추출 실행\n",
    "faq_data = extract_faq_data(driver)\n",
    "\n",
    "# 브라우저 종료\n",
    "driver.quit()"
   ],
   "id": "850a52c3a9945394",
   "outputs": [],
   "execution_count": 16
  },
  {
   "metadata": {
    "ExecuteTime": {
     "end_time": "2025-07-13T16:43:48.886764Z",
     "start_time": "2025-07-13T16:43:48.745813Z"
    }
   },
   "cell_type": "code",
   "source": [
    "# 1. 단순 출력 방식\n",
    "def print_faq_results(faq_data):\n",
    "    print(\"\\n=== FAQ 크롤링 결과 ===\")\n",
    "    print(f\"총 {len(faq_data)}개의 FAQ 항목이 수집되었습니다.\\n\")\n",
    "\n",
    "    for i, faq in enumerate(faq_data, 1):\n",
    "        print(f\"[{i}번째 FAQ]\")\n",
    "        print(f\"Q: {faq['question']}\")\n",
    "        print(f\"A: {faq['answer']}\")\n",
    "        print(\"-\" * 80)\n",
    "\n",
    "\n",
    "# 2. pandas DataFrame으로 변환하여 보기\n",
    "import pandas as pd\n",
    "\n",
    "\n",
    "def save_to_dataframe(faq_data):\n",
    "    df = pd.DataFrame(faq_data)\n",
    "    print(\"\\n=== DataFrame 형식으로 보기 ===\")\n",
    "    print(df)\n",
    "    return df\n",
    "\n",
    "\n",
    "# 3. Excel 파일로 저장\n",
    "def save_to_excel(df, filename='samsung_faq_results.xlsx'):\n",
    "    df.to_excel(filename, index=False)\n",
    "    print(f\"\\nExcel 파일이 저장되었습니다: {filename}\")\n",
    "\n",
    "\n",
    "# 실행\n",
    "# 1. 콘솔에서 바로 확인\n",
    "print_faq_results(faq_data)\n",
    "\n",
    "# 2. DataFrame으로 변환\n",
    "df = save_to_dataframe(faq_data)\n",
    "\n",
    "# 3. Excel 파일로 저장\n",
    "save_to_excel(df)"
   ],
   "id": "296adb8dfeabe4d4",
   "outputs": [
    {
     "name": "stdout",
     "output_type": "stream",
     "text": [
      "\n",
      "=== FAQ 크롤링 결과 ===\n",
      "총 0개의 FAQ 항목이 수집되었습니다.\n",
      "\n",
      "\n",
      "=== DataFrame 형식으로 보기 ===\n",
      "Empty DataFrame\n",
      "Columns: []\n",
      "Index: []\n",
      "\n",
      "Excel 파일이 저장되었습니다: samsung_faq_results.xlsx\n"
     ]
    },
    {
     "name": "stderr",
     "output_type": "stream",
     "text": [
      "<ipython-input-17-8c8228f13cc3>:26: UserWarning: Pandas requires version '1.4.3' or newer of 'xlsxwriter' (version '1.3.8' currently installed).\n",
      "  df.to_excel(filename, index=False)\n"
     ]
    }
   ],
   "execution_count": 17
  }
 ],
 "metadata": {
  "kernelspec": {
   "display_name": "Python 3",
   "language": "python",
   "name": "python3"
  },
  "language_info": {
   "codemirror_mode": {
    "name": "ipython",
    "version": 2
   },
   "file_extension": ".py",
   "mimetype": "text/x-python",
   "name": "python",
   "nbconvert_exporter": "python",
   "pygments_lexer": "ipython2",
   "version": "2.7.6"
  }
 },
 "nbformat": 4,
 "nbformat_minor": 5
}
